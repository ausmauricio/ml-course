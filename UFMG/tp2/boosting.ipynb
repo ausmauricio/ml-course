{
 "cells": [
  {
   "cell_type": "markdown",
   "metadata": {},
   "source": [
    "### Trabalho Prático 2 - Aprendizado de Máquinas\n",
    "\n",
    "#### Aluno: Mauricio de Oliveira\n",
    "#### Professor: Adriano Veloso\n",
    "#### Departamento de Ciência da Computação - Universidade Federal de Minas Gerais\n",
    "\n",
    "### RESUMO\n",
    "\n",
    "#### Este trabalho prático se refere a implementação da técnica de _boosting_, processo que adiciona diversos classificadores fracos de modo iterativo para construir um classificador forte. O processo de _boosting_ emprega dois mecanismos: ajustes nos pesos de cada classificador e ajustes nos pesos associados a cada entrada. \n",
    "#### Os conjuntos de pesos são alterados a cada iteração $t$ do processo. O peso de cada classificador indica a importância deste para classificação binária correta $(+1, -1)$. Assim, o peso $\\alpha^t$ de um classificador será alto caso seu erro (_training error_ ou erro empírico) for baixo. Já o ajuste no peso $w_i$ de cada entrada do _training set_ é feito de modo que exemplos classificados incorretamente tenha seu peso aumentado e exemplos com classificação correta tenha o peso diminuído, pois dessa forma, na próxima iteração, será possível dar maior foco aos exemplos incorretos.\n",
    "#### Sendo assim, o processo iterativo do _boosting_ é o seguinte:\n",
    "\n",
    "> 1. No início, fazer $w_i^1$ = 1/n, sendo n o tamanho do _training set_ <br>\n",
    "> 2. Loop: <br>\n",
    ">> 2.1 Escolha classificador $h_t$ que minimiza erro empírico na iteração t <br>\n",
    ">> 2.2 Recalcule $\\alpha^t$ <br>\n",
    ">> 2.3 Recalcule $w_i^{t+1} $ <br>\n",
    "> 3. Parar quando erro empírico convergir. <br>\n",
    "> 4. O classificador final treinado pelo processo de boosting será dado por:\n",
    "\n",
    "\\begin{equation*}\n",
    "h(X) = \\sum_{t=1} sign(\\alpha^t h_t(X))\n",
    "\\end{equation*}\n",
    "\n",
    "### ESPECIFICAÇÕES\n",
    "\n",
    "#### Da sequência acima, é preciso definir $h_t$, como é feito o passo 2.2 e 2.3.\n",
    "#### 1. $h_t$ pode ser qualquer classificador fraco, e neste trabalho será usado [_decision stumps_](https://en.wikipedia.org/wiki/Decision_stump), uma _decision tree_ de profundidade 1. <br> A escolha se baseia no erro empírico de cada _decision stump_ analisado, levando em consideração o peso $w_i$. Assim, um classificador que faz dois erros em entradas cujo pesos são 0.5 e 1, respectivamente, tem erro menor do que um classificador que erra em apenas 1 exemplo, porém com peso 2. \n",
    " \n",
    "#### 2. O ajuste de $\\alpha^t$ (passo 2.2) é feito da seguinte forma:\n",
    "\n",
    "\\begin{equation*}\n",
    "\\alpha^t = \\dfrac{1}{2} \\log_{} {\\dfrac{1-\\varepsilon^t}{\\varepsilon^t}}\n",
    "\\end{equation*}\n",
    "\n",
    "#### na qual $\\varepsilon^t$ é o erro empírico do modelo na iteração t (que já pode ser calculado logo após passo 2.1)\n",
    "#### 3. Por último, o ajuste nos pesos dos exemplos para a próxima iteração $w_i^{t+1} $ é dado por:\n",
    "\n",
    "\\begin{equation*}\n",
    "w_i^{t+1} = w_i^t e^{-\\alpha^t h_t y}\n",
    "\\end{equation*}\n",
    "\n",
    "#### aonde y é o valor correto {+1,-1}. É importante normalizar (dividir pela soma) $w_i^{t+1}$ de modo que $ \\sum_{i=1}^n w_i^{t+1} = 1$. Note que dessa forma o passo 2.3 de fato irá elevar o peso dos exemplos incorretos e diminuir dos exemplos corretos. Por exemplo, se $h_t$ está errado, isso significa que $sign(h_t y) = -1$. Assim, $w_i^{t+1}$ será aumentado por um fator de $e^{\\alpha^t}$. Caso contrário, $w_i^{t+1}$ será diminuido ao ser multiplicado por $e^{-\\alpha^t}$. <br> Obs: essa análise supõe $\\alpha^t$ > 0, o que ocorrerá caso $\\varepsilon^t < 0.5$, ou seja, nós conseguimos encontrar classificadores fracos mas que ao menos possuem desempenho um pouco melhor que um classificador aleatório.\n",
    "\n",
    "### IMPLEMENTAÇÃO"
   ]
  },
  {
   "cell_type": "code",
   "execution_count": 1,
   "metadata": {},
   "outputs": [],
   "source": [
    "# imports\n",
    "\n",
    "import numpy as np\n",
    "import matplotlib.pyplot as plt\n",
    "from numpy import genfromtxt\n",
    "from sklearn.model_selection import train_test_split\n",
    "from sklearn.metrics import accuracy_score\n",
    "from sklearn.model_selection import KFold\n",
    "from timeit import default_timer as timer\n"
   ]
  },
  {
   "cell_type": "markdown",
   "metadata": {},
   "source": [
    "Acima, nós importamos bibliotecas padrão para trabalhar com nossos dados. Além disso, algumas funções para simplificar nosso trabalho, como KFold para facilitar no processo de validação cruzada. \n",
    "\n",
    "Primeiro, vamos mostrar como implementamos a classe _BestDecisionStump_, responsável por retornar o stump do passo 2.1."
   ]
  },
  {
   "cell_type": "code",
   "execution_count": 2,
   "metadata": {},
   "outputs": [],
   "source": [
    "# lê o arquivo tic-tac-toe\n",
    "\n",
    "data = genfromtxt('tic-tac-toe', delimiter=',', dtype=\"|U5\")\n",
    "\n",
    "X = data[:,:-1]\n",
    "Y = data[:,-1]\n",
    "\n",
    "# converte para valores numéricos\n",
    "\n",
    "X[X == 'x'] = 1.0\n",
    "X[X == 'o'] = -1.0\n",
    "X[X == 'b'] = 0.0\n",
    "X = X.astype(float)\n",
    "Y = np.where(Y == 'negat', -1, 1)"
   ]
  },
  {
   "cell_type": "markdown",
   "metadata": {},
   "source": [
    "Os valores \"x\" foram transformados em 1 e \"o\" para -1.0. Os valores que representam espaços em branco passam a ser 0.0. Da mesma forma, Y passou a ser {+1,-1}.\n",
    "Agora iremos plotar uma gráfico que mostra nossa estratégia para implementar decision stumps."
   ]
  },
  {
   "cell_type": "code",
   "execution_count": 3,
   "metadata": {},
   "outputs": [
    {
     "data": {
      "text/plain": [
       "<matplotlib.legend.Legend at 0x7fe71c9f6eb8>"
      ]
     },
     "execution_count": 3,
     "metadata": {},
     "output_type": "execute_result"
    },
    {
     "data": {
      "image/png": "[encoded data removed]",
      "text/plain": [
       "<matplotlib.figure.Figure at 0x7fe724ffe6a0>"
      ]
     },
     "metadata": {},
     "output_type": "display_data"
    }
   ],
   "source": [
    "fig = plt.figure()\n",
    "fig.add_subplot(1,2,1)\n",
    "plt.plot(X[610:640,4], range(30),\"bo\", Y[610:640] + 0.15, range(30), \"ro\")\n",
    "plt.legend([\"points\",\"label\"])\n",
    "plt.axvline(x = -0.5)\n",
    "fig.add_subplot(1,2,2)\n",
    "plt.plot(X[615:645,6], range(30),\"bo\", Y[615:645] + 0.15, range(30), \"ro\")\n",
    "plt.axvline(x = 0.5)\n",
    "plt.legend([\"points\",\"label\"])"
   ]
  },
  {
   "cell_type": "markdown",
   "metadata": {},
   "source": [
    "A imagem acima representa os valores de 30 entradas distinas em uma respectiva coluna, isto é, o valor dentro de um quadro em 30 jogos diferentes, e o respectivo ganhador em vermelho. (-1 = \"o\", 0 = \"b\", +1 = \"x\", -1 = \"negative\", +1 = \"positive\")\n",
    "\n",
    "No espaço das variáveis do jogo tic-tac-toe, existem algumas regiões aonde é possível separar os pontos, porém nós utilizaremos duas: entre \"o\" e \"b\" (-1 e 0) ou \"b\" e \"x\" (0 e 1). Sendo assim, definimos duas _boundaries_ que servirá como nossos _splits_ (existem outras formas, no entanto):\n",
    "\n",
    "1. Classificar como +1 os pontos > -0.5 e -1 os pontos < -0.5\n",
    "2. Classificar como +1 os pontos > 0.5 e -1 os pontos < 0.5\n",
    "\n",
    "O split ideal deverá minimizar o erro, que é calculado usando o peso da entrada. Dessa forma, a cada iteração do processo de boosting, nós investigamos um total de **18** splits, 2 para cada coluna. Contanto que exista pelo menos um com erro menor que 0.5, devemos conseguir formar um bom _ensemble_.\n",
    "\n",
    "Segue então a definição da classe _BestDecisionStump_."
   ]
  },
  {
   "cell_type": "code",
   "execution_count": 4,
   "metadata": {},
   "outputs": [],
   "source": [
    "class BestDecisionStump():\n",
    "    \n",
    "    \"\"\" Fits data to best decision stumps considering x, y and w.\"\"\"\n",
    "    \n",
    "    def __init__(self, x, y, w, \n",
    "                 num_cols = 9, split_values = [-0.5, 0.5]):\n",
    "        \n",
    "        \"\"\"Initializes the decision stump .\"\"\"\n",
    "    \n",
    "        self.x = x\n",
    "        self.y = y\n",
    "        self.w = w\n",
    "        self.split_values = split_values\n",
    "        self.num_cols = num_cols\n",
    "        \n",
    "    def fit(self):\n",
    "        \n",
    "        \" Returns the best stump available, considering x, y and w. \"\n",
    "        \n",
    "        stump = np.zeros((self.num_cols * 2, 1))\n",
    "            \n",
    "        for num_col in range(self.num_cols):\n",
    "             \n",
    "            # calculates two stumps\n",
    "            # (positive number) - (-negative number) = positive number\n",
    "\n",
    "            w_label = self.w*self.y\n",
    "            stump[num_col] =  w_label[self.x[:,num_col] > self.split_values[0]].sum() \n",
    "            stump[num_col] -= w_label[self.x[:,num_col] < self.split_values[0]].sum() \n",
    "            stump[self.num_cols + num_col] =  w_label[self.x[:,num_col] > self.split_values[1]].sum() \n",
    "            stump[self.num_cols + num_col] -= w_label[self.x[:,num_col] < self.split_values[1]].sum() \n",
    "                     \n",
    "        self.best_stump = {\"stump_perf\": stump.max(), \n",
    "                           \"col\": np.argmax(stump),\n",
    "                           \"split\": self.split_values[0] \n",
    "                                    if np.argmax(stump) <= self.num_cols-1 \n",
    "                                    else self.split_values[1]}\n",
    "        \n",
    "        return self.best_stump\n",
    "    \n",
    "    def predict(self):\n",
    "        \n",
    "        \"Must be called after fit.\"\n",
    "        \n",
    "        self.pred = np.zeros(self.y.shape[0])\n",
    "        \n",
    "        i = 0\n",
    "        \n",
    "        for x in self.x[:,self.best_stump[\"col\"]%9]:\n",
    "            \n",
    "            if float(x) > self.best_stump[\"split\"]:\n",
    "                self.pred[i] = 1.0\n",
    "            else:\n",
    "                self.pred[i] = -1.0\n",
    "            \n",
    "            i+=1\n",
    "            \n",
    "        assert(self.pred.shape == self.y.shape)\n",
    "        return self.pred\n",
    "    \n",
    "    def calculate_error(self):\n",
    "        \n",
    "        \"Must be called after fit and predit.\"\n",
    "        \n",
    "        return self.w.dot(self.pred != self.y)"
   ]
  },
  {
   "cell_type": "markdown",
   "metadata": {},
   "source": [
    "O método mais importante é _fit_, que compara 18 stumps e retorna o mais apropriado. O cálculo, como podem ver, maximiza predições corretas levando em consideração o peso. \n",
    "\n",
    "Também iremos criar uma função separada que permite fazer a predição."
   ]
  },
  {
   "cell_type": "code",
   "execution_count": 5,
   "metadata": {},
   "outputs": [],
   "source": [
    "def make_prediction(stump, x):\n",
    "    \n",
    "    pred = np.zeros(x.shape[0])\n",
    "        \n",
    "    i = 0\n",
    "        \n",
    "    for value in x[:,stump[\"col\"]%9]:\n",
    "    \n",
    "        if float(value) > stump[\"split\"]:\n",
    "            pred[i] = 1.0\n",
    "        else:\n",
    "            pred[i] = -1.0\n",
    "            \n",
    "        i+=1\n",
    "        \n",
    "    return pred"
   ]
  },
  {
   "cell_type": "markdown",
   "metadata": {},
   "source": [
    "Assim estamo prontos para o treino. \n",
    "Criando os sets para treino:\n"
   ]
  },
  {
   "cell_type": "code",
   "execution_count": 6,
   "metadata": {},
   "outputs": [],
   "source": [
    "X_train, X_test, Y_train, Y_test = train_test_split(X, Y, test_size = 0.3)"
   ]
  },
  {
   "cell_type": "markdown",
   "metadata": {},
   "source": [
    "Agora definiremos a função que utilizará a classe para realizar o processo de _boosting_, no qual deve-se apenas ser passado."
   ]
  },
  {
   "cell_type": "code",
   "execution_count": 7,
   "metadata": {},
   "outputs": [],
   "source": [
    "def get_scores(total_iter):\n",
    "    \n",
    "    \"\"\" Returns train, test, validation and average \n",
    "        stump error after total_iter iterations. \"\"\"\n",
    "\n",
    "    hypotheses   = dict()\n",
    "    stumps_error = dict()\n",
    "\n",
    "    ensemble_error = 0\n",
    "    validation_error = 0\n",
    "    training_error = 0\n",
    "    stump_overall_error = 0\n",
    "\n",
    "    kf = KFold(n_splits = 5)\n",
    "    k = 0\n",
    "\n",
    "    for train_index, val_index in kf.split(X_train):      \n",
    "    \n",
    "        N = len(train_index)\n",
    "        w = np.ones(N) / N\n",
    "    \n",
    "        for it in range(total_iter):\n",
    "        \n",
    "            x_train, x_val = X_train[train_index], X_train[val_index]\n",
    "            y_train, y_val = Y_train[train_index], Y_train[val_index]\n",
    "\n",
    "            h = BestDecisionStump(x_train, y_train, w)\n",
    "            h.fit()\n",
    "            pred  = h.predict()\n",
    "            error = h.calculate_error()\n",
    "            alpha = (np.log((1 - error)/error)) / 2\n",
    "            stumps_error[it] = {\"error\":error,\"alpha\":alpha}\n",
    "\n",
    "            w = w * np.exp(- alpha * y_train * pred)\n",
    "            w = w / w.sum()\n",
    "    \n",
    "            hypotheses[it] = {\"function\":h.best_stump, \"weight\":alpha}\n",
    "\n",
    "        #average stump error\n",
    "        stump_error = 0\n",
    "        alpha_sum = 0\n",
    "        for it in stumps_error:\n",
    "            alpha_sum += stumps_error[it][\"alpha\"]\n",
    "            stump_error += stumps_error[it][\"error\"]*stumps_error[it][\"alpha\"]\n",
    "        stump_error /= alpha_sum    \n",
    "        stump_overall_error += stump_error\n",
    "    \n",
    "        #training error\n",
    "        y = np.zeros(x_train.shape[0])\n",
    "        for it in hypotheses:\n",
    "            y = y + (hypotheses[it][\"weight\"] * make_prediction(hypotheses[it][\"function\"], x_train))\n",
    "        y = np.sign(y)\n",
    "        training_error += 1 - accuracy_score(y,y_train)    \n",
    "    \n",
    "        #validation error\n",
    "        y = np.zeros(x_val.shape[0])\n",
    "        for it in hypotheses:\n",
    "            y = y + (hypotheses[it][\"weight\"] * make_prediction(hypotheses[it][\"function\"], x_val))\n",
    "        y = np.sign(y)\n",
    "        validation_error += 1 - accuracy_score(y,y_val)  \n",
    "    \n",
    "        #test error\n",
    "        y = np.zeros(X_test.shape[0])\n",
    "        for it in hypotheses:\n",
    "            y = y + (hypotheses[it][\"weight\"] * make_prediction(hypotheses[it][\"function\"], X_test))\n",
    "        y = np.sign(y)\n",
    "        ensemble_error += 1 - accuracy_score(y,Y_test)  \n",
    "    \n",
    "        k+=1\n",
    "    \n",
    "    return(training_error/k, validation_error/k, \n",
    "           ensemble_error/k, stump_overall_error/k)"
   ]
  },
  {
   "cell_type": "markdown",
   "metadata": {},
   "source": [
    "No corpo da função encontra-se a implementação da sequência 2.1 - 2.3.\n",
    "\n",
    "2.1: <br>\n",
    "h = BestDecisionStump(x_train, y_train, w) <br>\n",
    "h.fit() <br>\n",
    "\n",
    "2.2: <br>\n",
    "pred  = h.predict() <br>\n",
    "error = h.calculate_error() <br>\n",
    "alpha = (np.log((1 - error)/error)) / 2 <br>\n",
    "\n",
    "2.3: <br>\n",
    "w = w * np.exp(- alpha * y_train * pred) <br>\n",
    "w = w / w.sum() <br>\n",
    "\n",
    "Após isso, o cálculo de todos os erros: treino, validação, teste e média dos stumps calculados para um determinado valor de iterações 5 vezes cada. Com isso, vamos analisar estes erros."
   ]
  },
  {
   "cell_type": "code",
   "execution_count": 9,
   "metadata": {},
   "outputs": [
    {
     "name": "stdout",
     "output_type": "stream",
     "text": [
      "total time:  201.0715762510008\n"
     ]
    },
    {
     "data": {
      "text/plain": [
       "Text(0,0.5,'Erro')"
      ]
     },
     "execution_count": 9,
     "metadata": {},
     "output_type": "execute_result"
    },
    {
     "data": {
      "image/png": "[encoded data removed]",
      "text/plain": [
       "<matplotlib.figure.Figure at 0x7fe724ffe390>"
      ]
     },
     "metadata": {},
     "output_type": "display_data"
    }
   ],
   "source": [
    "train_error    = dict()\n",
    "val_error      = dict()\n",
    "stump_error    = dict()\n",
    "test_error     = dict()\n",
    "    \n",
    "start = timer()\n",
    "\n",
    "for n_iter in range(1,800,10):\n",
    "    \n",
    "    (e1,e2,e3,e4) = get_scores(n_iter)\n",
    "    train_error[n_iter]    = e1\n",
    "    val_error[n_iter]      = e2  \n",
    "    test_error[n_iter]     = e3  \n",
    "    stump_error[n_iter]    = e4  \n",
    "\n",
    "print(\"total time: \", timer() - start)\n",
    "\n",
    "fig = plt.figure(figsize=(12, 10))\n",
    "\n",
    "plt.plot(stump_error.keys(), stump_error.values(), color = 'r')\n",
    "plt.plot(test_error.keys(), test_error.values(), color = 'b')\n",
    "plt.plot(val_error.keys(), val_error.values(), color = 'g')\n",
    "plt.plot(train_error.keys(), train_error.values(), color = 'k')\n",
    "\n",
    "plt.yticks(np.arange(0, 0.5, step=0.05))\n",
    "plt.legend([\"Average Stump Error\",\"Ensemble Test Error\",\n",
    "            \"Validation Error\", \"Training Error\"])\n",
    "plt.xlabel(\"Número de iterações\")\n",
    "plt.ylabel(\"Erro\")"
   ]
  },
  {
   "cell_type": "markdown",
   "metadata": {},
   "source": [
    "O número de iterações representa exatamente o número de classificadores fracos no _ensemble_. Assim, vemos que um conjunto de classificadores fracos é sim capaz de formar um classificador forte. A cada classificador adicionado, melhor os erros (teste, treino e validação). \n",
    "\n",
    "Primeiro, vemos que o _average stump error_, isto é, o erro médio ponderado de cada classificador fraco tende a 0.5 e o erro de um único classificador (número de iterações = 1) é melhor que o erro em dados não vistos (_ensemble test error_). Isso mostra que fica \"cada vez mais difícil\" encontrar stumps com desempenho pouco melhor que um classificador aleatório, a medida que os pesos w se alteram.\n",
    "\n",
    "Um dos objetivos principais em se usar classificadores fracos é \"herdar\" suas características de pouco _overfit_. Como não existe um intervalo grande entre valores de erro de treino (_training error_) e de teste (_ensemble test error_), vemos que de fato o _ensemble_ possui pouca variância.\n",
    "\n",
    "Além disso, vemos erro de validação generaliza bem, pois é próximo ao erro no teste."
   ]
  },
  {
   "cell_type": "markdown",
   "metadata": {},
   "source": [
    "---"
   ]
  }
 ],
 "metadata": {
  "kernelspec": {
   "display_name": "Python 3",
   "language": "python",
   "name": "python3"
  },
  "language_info": {
   "codemirror_mode": {
    "name": "ipython",
    "version": 3
   },
   "file_extension": ".py",
   "mimetype": "text/x-python",
   "name": "python",
   "nbconvert_exporter": "python",
   "pygments_lexer": "ipython3",
   "version": "3.6.4"
  }
 },
 "nbformat": 4,
 "nbformat_minor": 2
}
